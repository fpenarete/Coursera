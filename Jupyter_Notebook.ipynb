{
 "cells": [
  {
   "cell_type": "markdown",
   "metadata": {},
   "source": [
    "<center>\n",
    "    <img src=\"https://cf-courses-data.s3.us.cloud-object-storage.appdomain.cloud/IBMDeveloperSkillsNetwork-DS0105EN-SkillsNetwork/labs/Module2/images/SN_web_lightmode.png\" width=\"300\" alt=\"cognitiveclass.ai logo\">\n",
    "</center>\n"
   ]
  },
  {
   "cell_type": "markdown",
   "metadata": {},
   "source": [
    "#### Add your code below following the instructions given in the course\n"
   ]
  },
  {
   "cell_type": "markdown",
   "metadata": {},
   "source": [
    "# Fabio NoteBook"
   ]
  },
  {
   "cell_type": "markdown",
   "metadata": {
    "tags": []
   },
   "source": [
    "## Introduction\n",
    "\n",
    "Welcome to this Jupyter Notebook! In this notebook, we will explore various data science concepts and techniques using examples and code. We'll cover topics such as data visualization, data manipulation, and more. Let's get started!\n"
   ]
  },
  {
   "cell_type": "markdown",
   "metadata": {},
   "source": [
    "## Lenguajes de Ciencia de Datos\n",
    "\n",
    "- Python\n",
    "- R\n",
    "- Julia\n",
    "- Scala\n",
    "- SQL\n"
   ]
  },
  {
   "cell_type": "markdown",
   "metadata": {},
   "source": [
    "## Bibliotecas de Ciencia de Datos\n",
    "\n",
    "- pandas\n",
    "- NumPy\n",
    "- scikit-learn\n",
    "- Matplotlib\n",
    "- Seaborn\n",
    "- TensorFlow\n",
    "- Keras\n",
    "- PyTorch\n"
   ]
  },
  {
   "cell_type": "markdown",
   "metadata": {},
   "source": [
    "## Herramientas de Ciencia de Datos\n",
    "\n",
    "| Herramienta        | Descripción                                   |\n",
    "|--------------------|-----------------------------------------------|\n",
    "| pandas             | Biblioteca para análisis de datos en Python   |\n",
    "| NumPy              | Biblioteca para cálculos numéricos en Python  |\n",
    "| scikit-learn       | Biblioteca para aprendizaje automático en Python |\n",
    "| Matplotlib         | Biblioteca para visualización de datos en Python |\n",
    "| Seaborn            | Biblioteca para visualización de datos en Python |\n",
    "| TensorFlow         | Plataforma de aprendizaje automático en Python |\n",
    "| Keras              | Biblioteca de redes neuronales en Python       |\n",
    "| PyTorch            | Biblioteca de aprendizaje profundo en Python   |\n"
   ]
  },
  {
   "cell_type": "markdown",
   "metadata": {},
   "source": [
    "## Ejemplos de Expresiones Aritméticas\n",
    "\n",
    "Las expresiones aritméticas son fundamentales en la ciencia de datos para realizar cálculos y operaciones matemáticas en los datos. A continuación, veremos algunos ejemplos simples de expresiones aritméticas en Python.\n",
    "\n",
    "- Suma: `3 + 5` resulta en 8.\n",
    "- Resta: `10 - 2` resulta en 8.\n",
    "- Multiplicación: `4 * 6` resulta en 24.\n",
    "- División: `15 / 3` resulta en 5.\n",
    "- Potenciación: `2 ** 3` resulta en 8 (2 elevado a la potencia de 3).\n",
    "- Módulo: `10 % 3` resulta en 1 (resto de la división de 10 entre 3).\n",
    "\n",
    "Estos ejemplos demuestran cómo las expresiones aritméticas se utilizan para realizar operaciones matemáticas en la programación y el análisis de datos.\n"
   ]
  },
  {
   "cell_type": "code",
   "execution_count": 4,
   "metadata": {
    "tags": []
   },
   "outputs": [
    {
     "name": "stdout",
     "output_type": "stream",
     "text": [
      "El resultado de la multiplicación es: 15\n",
      "El resultado de la suma es: 17\n"
     ]
    }
   ],
   "source": [
    "# Operación de multiplicación\n",
    "numero1 = 5\n",
    "numero2 = 3\n",
    "resultado_multiplicacion = numero1 * numero2\n",
    "print(\"El resultado de la multiplicación es:\", resultado_multiplicacion)\n",
    "\n",
    "# Operación de suma\n",
    "numero3 = 10\n",
    "numero4 = 7\n",
    "resultado_suma = numero3 + numero4\n",
    "print(\"El resultado de la suma es:\", resultado_suma)\n"
   ]
  },
  {
   "cell_type": "code",
   "execution_count": 5,
   "metadata": {
    "tags": []
   },
   "outputs": [
    {
     "name": "stdout",
     "output_type": "stream",
     "text": [
      "150 minutos son equivalentes a 2.5 horas\n"
     ]
    }
   ],
   "source": [
    "# Conversión de minutos a horas\n",
    "minutos = 150\n",
    "horas = minutos / 60\n",
    "print(minutos, \"minutos son equivalentes a\", horas, \"horas\")\n"
   ]
  },
  {
   "cell_type": "markdown",
   "metadata": {},
   "source": [
    "## Objetivos del Cuaderno\n",
    "\n",
    "- Introducir conceptos clave de ciencia de datos.\n",
    "- Familiarizar a los lectores con lenguajes y bibliotecas comunes.\n",
    "- Explorar ejemplos prácticos de operaciones aritméticas y conversiones.\n",
    "- Proporcionar una visión general de las herramientas de ciencia de datos.\n"
   ]
  },
  {
   "cell_type": "markdown",
   "metadata": {
    "tags": []
   },
   "source": [
    "## Autor\n",
    "\n",
    "Este cuaderno fue creado por: Fabio Andres Peñarete F\n"
   ]
  },
  {
   "cell_type": "code",
   "execution_count": null,
   "metadata": {},
   "outputs": [],
   "source": []
  }
 ],
 "metadata": {
  "kernelspec": {
   "display_name": "Python",
   "language": "python",
   "name": "conda-env-python-py"
  },
  "language_info": {
   "codemirror_mode": {
    "name": "ipython",
    "version": 3
   },
   "file_extension": ".py",
   "mimetype": "text/x-python",
   "name": "python",
   "nbconvert_exporter": "python",
   "pygments_lexer": "ipython3",
   "version": "3.7.12"
  }
 },
 "nbformat": 4,
 "nbformat_minor": 4
}
